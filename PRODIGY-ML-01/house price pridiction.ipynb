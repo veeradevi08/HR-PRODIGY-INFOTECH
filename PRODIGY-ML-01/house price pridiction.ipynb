{
 "cells": [
  {
   "cell_type": "code",
   "execution_count": 5,
   "id": "f0bd4f72",
   "metadata": {},
   "outputs": [
    {
     "name": "stdout",
     "output_type": "stream",
     "text": [
      "   GrLivArea  BedroomAbvGr  FullBath  HalfBath\n",
      "0       1710             3         2         1\n",
      "1       1262             3         2         0\n",
      "2       1786             3         2         1\n",
      "3       1717             3         1         0\n",
      "4       2198             4         2         1\n",
      "0    208500\n",
      "1    181500\n",
      "2    223500\n",
      "3    140000\n",
      "4    250000\n",
      "Name: SalePrice, dtype: int64\n"
     ]
    }
   ],
   "source": [
    "import pandas as pd\n",
    "\n",
    "# Load the training data\n",
    "train_data = pd.read_csv('train.csv')\n",
    "\n",
    "# Select relevant features and the target variable\n",
    "features = ['GrLivArea', 'BedroomAbvGr', 'FullBath', 'HalfBath']\n",
    "target = 'SalePrice'\n",
    "\n",
    "# Drop rows with missing values in the selected features and target variable\n",
    "train_data = train_data.dropna(subset=features + [target])\n",
    "\n",
    "# Split the data into features (X) and target (y)\n",
    "X = train_data[features]\n",
    "y = train_data[target]\n",
    "\n",
    "print(X.head())\n",
    "print(y.head())\n",
    "\n"
   ]
  },
  {
   "cell_type": "code",
   "execution_count": 6,
   "id": "0901134f",
   "metadata": {},
   "outputs": [
    {
     "name": "stdout",
     "output_type": "stream",
     "text": [
      "MAE: 36018.563138363446\n",
      "MSE: 2810942965.2180653\n",
      "RMSE: 53018.32669198515\n"
     ]
    }
   ],
   "source": [
    "from sklearn.model_selection import train_test_split\n",
    "from sklearn.linear_model import LinearRegression\n",
    "from sklearn.metrics import mean_absolute_error, mean_squared_error\n",
    "\n",
    "# Split the data into training and testing sets\n",
    "X_train, X_test, y_train, y_test = train_test_split(X, y, test_size=0.2, random_state=42)\n",
    "\n",
    "# Train the linear regression model\n",
    "model = LinearRegression()\n",
    "model.fit(X_train, y_train)\n",
    "\n",
    "# Predict on the test set\n",
    "y_pred = model.predict(X_test)\n",
    "\n",
    "# Evaluate the model\n",
    "mae = mean_absolute_error(y_test, y_pred)\n",
    "mse = mean_squared_error(y_test, y_pred)\n",
    "rmse = mse ** 0.5\n",
    "\n",
    "print(f\"MAE: {mae}\")\n",
    "print(f\"MSE: {mse}\")\n",
    "print(f\"RMSE: {rmse}\")\n"
   ]
  },
  {
   "cell_type": "code",
   "execution_count": null,
   "id": "9c178ff6",
   "metadata": {},
   "outputs": [],
   "source": [
    "import tkinter as tk\n",
    "from tkinter import messagebox\n",
    "\n",
    "# Create the main window\n",
    "root = tk.Tk()\n",
    "root.title(\"House Price Predictor\")\n",
    "\n",
    "# Function to predict the house price\n",
    "def predict_price():\n",
    "    try:\n",
    "        # Get user inputs\n",
    "        gr_liv_area = float(entry_gr_liv_area.get())\n",
    "        bedroom_abv_gr = int(entry_bedroom_abv_gr.get())\n",
    "        full_bath = int(entry_full_bath.get())\n",
    "        half_bath = int(entry_half_bath.get())\n",
    "\n",
    "        # Create a dataframe for prediction\n",
    "        input_data = pd.DataFrame([[gr_liv_area, bedroom_abv_gr, full_bath, half_bath]], \n",
    "                                  columns=features)\n",
    "        \n",
    "        # Predict the price\n",
    "        predicted_price = model.predict(input_data)[0]\n",
    "        \n",
    "        # Display the predicted price\n",
    "        messagebox.showinfo(\"Predicted Price\", f\"The predicted house price is: ${predicted_price:,.2f}\")\n",
    "    except Exception as e:\n",
    "        messagebox.showerror(\"Error\", str(e))\n",
    "\n",
    "# Create and place the widgets\n",
    "tk.Label(root, text=\"Above Ground Living Area (sq ft)\").grid(row=0, column=0, padx=10, pady=10)\n",
    "entry_gr_liv_area = tk.Entry(root)\n",
    "entry_gr_liv_area.grid(row=0, column=1, padx=10, pady=10)\n",
    "\n",
    "tk.Label(root, text=\"Number of Bedrooms\").grid(row=1, column=0, padx=10, pady=10)\n",
    "entry_bedroom_abv_gr = tk.Entry(root)\n",
    "entry_bedroom_abv_gr.grid(row=1, column=1, padx=10, pady=10)\n",
    "\n",
    "tk.Label(root, text=\"Number of Full Bathrooms\").grid(row=2, column=0, padx=10, pady=10)\n",
    "entry_full_bath = tk.Entry(root)\n",
    "entry_full_bath.grid(row=2, column=1, padx=10, pady=10)\n",
    "\n",
    "tk.Label(root, text=\"Number of Half Bathrooms\").grid(row=3, column=0, padx=10, pady=10)\n",
    "entry_half_bath = tk.Entry(root)\n",
    "entry_half_bath.grid(row=3, column=1, padx=10, pady=10)\n",
    "\n",
    "tk.Button(root, text=\"Predict Price\", command=predict_price).grid(row=4, column=0, columnspan=2, pady=20)\n",
    "\n",
    "# Run the application\n",
    "root.mainloop()\n"
   ]
  },
  {
   "cell_type": "code",
   "execution_count": null,
   "id": "3e82a737",
   "metadata": {},
   "outputs": [],
   "source": []
  }
 ],
 "metadata": {
  "kernelspec": {
   "display_name": "Python 3 (ipykernel)",
   "language": "python",
   "name": "python3"
  },
  "language_info": {
   "codemirror_mode": {
    "name": "ipython",
    "version": 3
   },
   "file_extension": ".py",
   "mimetype": "text/x-python",
   "name": "python",
   "nbconvert_exporter": "python",
   "pygments_lexer": "ipython3",
   "version": "3.11.4"
  }
 },
 "nbformat": 4,
 "nbformat_minor": 5
}
